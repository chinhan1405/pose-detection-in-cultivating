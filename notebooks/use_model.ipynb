{
 "cells": [
  {
   "cell_type": "code",
   "execution_count": 1,
   "id": "4cf3ba36",
   "metadata": {},
   "outputs": [],
   "source": [
    "import joblib\n",
    "import numpy as np\n",
    "import mediapipe as mp\n",
    "import cv2"
   ]
  },
  {
   "cell_type": "code",
   "execution_count": 23,
   "id": "fb0e459c",
   "metadata": {},
   "outputs": [],
   "source": [
    "def extract_features_and_classify_image(image_path, model_path):\n",
    "    \"\"\"\n",
    "    Extract pose landmarks from an image and classify it using a pre-trained model.\n",
    "\n",
    "    Parameters:\n",
    "    - image_path: str, path to the input image.\n",
    "    - model_path: str, path to the pre-trained model file.\n",
    "\n",
    "    Returns:\n",
    "    - classification_result: The classification result from the model.\n",
    "    \"\"\"\n",
    "    # Initialize MediaPipe Pose\n",
    "    mp_pose = mp.solutions.pose\n",
    "    pose = mp_pose.Pose(static_image_mode=True, min_detection_confidence=0.5)\n",
    "\n",
    "    # Read the image\n",
    "    image = cv2.imread(image_path)\n",
    "    image_rgb = cv2.cvtColor(image, cv2.COLOR_BGR2RGB)\n",
    "\n",
    "    # Detect pose landmarks\n",
    "    results = pose.process(image_rgb)\n",
    "    if results.pose_landmarks:\n",
    "        # Extract landmarks\n",
    "        landmarks = []\n",
    "        for landmark in results.pose_landmarks.landmark:\n",
    "            landmarks.extend([landmark.x, landmark.y, landmark.z, landmark.visibility])\n",
    "\n",
    "        # Load the pre-trained model\n",
    "        model = joblib.load(model_path)\n",
    "\n",
    "        # Classify the image using the extracted landmarks\n",
    "        landmarks_array = np.array(landmarks).reshape(1, -1)\n",
    "        classification_result = model.predict(landmarks_array)\n",
    "\n",
    "        return classification_result\n",
    "    else:\n",
    "        print(\"No pose landmarks detected in the image.\")\n",
    "        return None\n"
   ]
  },
  {
   "cell_type": "code",
   "execution_count": null,
   "id": "9cc01896",
   "metadata": {},
   "outputs": [
    {
     "name": "stderr",
     "output_type": "stream",
     "text": [
      "I0000 00:00:1746903284.528699  928127 gl_context_egl.cc:85] Successfully initialized EGL. Major : 1 Minor: 5\n",
      "I0000 00:00:1746903284.542830 1269047 gl_context.cc:369] GL version: 3.0 (OpenGL ES 3.0 Mesa 24.2.8-1ubuntu1~24.04.1), renderer: D3D12 (Intel(R) UHD Graphics 770)\n",
      "W0000 00:00:1746903284.629075 1269021 inference_feedback_manager.cc:114] Feedback manager requires a model with a single signature inference. Disabling support for feedback tensors.\n",
      "W0000 00:00:1746903284.736640 1269017 inference_feedback_manager.cc:114] Feedback manager requires a model with a single signature inference. Disabling support for feedback tensors.\n",
      "/home/nhanhoang/projects/pose-detection-in-cultivating/.venv/lib/python3.12/site-packages/sklearn/utils/validation.py:2739: UserWarning: X does not have valid feature names, but SVC was fitted with feature names\n",
      "  warnings.warn(\n"
     ]
    },
    {
     "data": {
      "text/plain": [
       "array(['watering'], dtype=object)"
      ]
     },
     "execution_count": 46,
     "metadata": {},
     "output_type": "execute_result"
    }
   ],
   "source": [
    "extract_features_and_classify_image(\"../test_data/watering_test.jpg\", \"../models/SVC.joblib\")"
   ]
  }
 ],
 "metadata": {
  "kernelspec": {
   "display_name": ".venv",
   "language": "python",
   "name": "python3"
  },
  "language_info": {
   "codemirror_mode": {
    "name": "ipython",
    "version": 3
   },
   "file_extension": ".py",
   "mimetype": "text/x-python",
   "name": "python",
   "nbconvert_exporter": "python",
   "pygments_lexer": "ipython3",
   "version": "3.12.9"
  }
 },
 "nbformat": 4,
 "nbformat_minor": 5
}
