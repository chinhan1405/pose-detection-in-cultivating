{
 "cells": [
  {
   "cell_type": "code",
   "execution_count": 4,
   "id": "f0cea872",
   "metadata": {},
   "outputs": [],
   "source": [
    "import os\n",
    "import cv2\n",
    "import mediapipe as mp\n",
    "import pandas as pd"
   ]
  },
  {
   "cell_type": "code",
   "execution_count": 5,
   "id": "2cac53fa",
   "metadata": {},
   "outputs": [],
   "source": [
    "dataset_path = \"../dataset\"\n",
    "output_path = \"../output\"\n",
    "if not os.path.exists(output_path):\n",
    "    os.makedirs(output_path)"
   ]
  },
  {
   "cell_type": "code",
   "execution_count": null,
   "id": "fc86e4e5",
   "metadata": {},
   "outputs": [
    {
     "name": "stderr",
     "output_type": "stream",
     "text": [
      "I0000 00:00:1746902469.905413  752948 gl_context_egl.cc:85] Successfully initialized EGL. Major : 1 Minor: 5\n",
      "I0000 00:00:1746902469.926681 1137944 gl_context.cc:369] GL version: 3.0 (OpenGL ES 3.0 Mesa 24.2.8-1ubuntu1~24.04.1), renderer: D3D12 (Intel(R) UHD Graphics 770)\n",
      "I0000 00:00:1746902469.956199  752948 gl_context_egl.cc:85] Successfully initialized EGL. Major : 1 Minor: 5\n",
      "W0000 00:00:1746902469.972610 1137919 inference_feedback_manager.cc:114] Feedback manager requires a model with a single signature inference. Disabling support for feedback tensors.\n",
      "I0000 00:00:1746902469.972743 1137988 gl_context.cc:369] GL version: 3.0 (OpenGL ES 3.0 Mesa 24.2.8-1ubuntu1~24.04.1), renderer: D3D12 (Intel(R) UHD Graphics 770)\n",
      "I0000 00:00:1746902469.990690  752948 gl_context_egl.cc:85] Successfully initialized EGL. Major : 1 Minor: 5\n",
      "I0000 00:00:1746902470.008782 1138014 gl_context.cc:369] GL version: 3.0 (OpenGL ES 3.0 Mesa 24.2.8-1ubuntu1~24.04.1), renderer: D3D12 (Intel(R) UHD Graphics 770)\n",
      "I0000 00:00:1746902470.022648  752948 gl_context_egl.cc:85] Successfully initialized EGL. Major : 1 Minor: 5\n",
      "W0000 00:00:1746902470.035344 1137940 inference_feedback_manager.cc:114] Feedback manager requires a model with a single signature inference. Disabling support for feedback tensors.\n",
      "I0000 00:00:1746902470.046992 1138040 gl_context.cc:369] GL version: 3.0 (OpenGL ES 3.0 Mesa 24.2.8-1ubuntu1~24.04.1), renderer: D3D12 (Intel(R) UHD Graphics 770)\n",
      "W0000 00:00:1746902470.048308 1137950 inference_feedback_manager.cc:114] Feedback manager requires a model with a single signature inference. Disabling support for feedback tensors.\n",
      "I0000 00:00:1746902470.060870  752948 gl_context_egl.cc:85] Successfully initialized EGL. Major : 1 Minor: 5\n",
      "I0000 00:00:1746902470.079943 1138066 gl_context.cc:369] GL version: 3.0 (OpenGL ES 3.0 Mesa 24.2.8-1ubuntu1~24.04.1), renderer: D3D12 (Intel(R) UHD Graphics 770)\n",
      "W0000 00:00:1746902470.087616 1137989 inference_feedback_manager.cc:114] Feedback manager requires a model with a single signature inference. Disabling support for feedback tensors.\n",
      "I0000 00:00:1746902470.101897  752948 gl_context_egl.cc:85] Successfully initialized EGL. Major : 1 Minor: 5\n",
      "W0000 00:00:1746902470.123261 1137970 inference_feedback_manager.cc:114] Feedback manager requires a model with a single signature inference. Disabling support for feedback tensors.\n",
      "I0000 00:00:1746902470.134667 1138110 gl_context.cc:369] GL version: 3.0 (OpenGL ES 3.0 Mesa 24.2.8-1ubuntu1~24.04.1), renderer: D3D12 (Intel(R) UHD Graphics 770)\n",
      "W0000 00:00:1746902470.135676 1138018 inference_feedback_manager.cc:114] Feedback manager requires a model with a single signature inference. Disabling support for feedback tensors.\n"
     ]
    },
    {
     "name": "stdout",
     "output_type": "stream",
     "text": [
      "Pose landmarks for folder 'harvesting' have been saved to ../output/harvesting_pose_landmarks.csv\n",
      "Pose landmarks for folder 'hoeing' have been saved to ../output/hoeing_pose_landmarks.csv\n",
      "Pose landmarks for folder 'fertilizing' have been saved to ../output/fertilizing_pose_landmarks.csv\n",
      "Pose landmarks for folder 'tilting' have been saved to ../output/tilting_pose_landmarks.csv\n",
      "Pose landmarks for folder 'pruning' have been saved to ../output/pruning_pose_landmarks.csv\n",
      "Pose landmarks for folder 'planting' have been saved to ../output/planting_pose_landmarks.csv\n"
     ]
    },
    {
     "name": "stderr",
     "output_type": "stream",
     "text": [
      "I0000 00:00:1746902470.156890  752948 gl_context_egl.cc:85] Successfully initialized EGL. Major : 1 Minor: 5\n",
      "W0000 00:00:1746902470.167263 1138009 inference_feedback_manager.cc:114] Feedback manager requires a model with a single signature inference. Disabling support for feedback tensors.\n",
      "W0000 00:00:1746902470.183232 1138052 inference_feedback_manager.cc:114] Feedback manager requires a model with a single signature inference. Disabling support for feedback tensors.\n",
      "I0000 00:00:1746902470.188489 1138136 gl_context.cc:369] GL version: 3.0 (OpenGL ES 3.0 Mesa 24.2.8-1ubuntu1~24.04.1), renderer: D3D12 (Intel(R) UHD Graphics 770)\n",
      "W0000 00:00:1746902470.206570 1138035 inference_feedback_manager.cc:114] Feedback manager requires a model with a single signature inference. Disabling support for feedback tensors.\n",
      "W0000 00:00:1746902470.224703 1138084 inference_feedback_manager.cc:114] Feedback manager requires a model with a single signature inference. Disabling support for feedback tensors.\n",
      "W0000 00:00:1746902470.265165 1138059 inference_feedback_manager.cc:114] Feedback manager requires a model with a single signature inference. Disabling support for feedback tensors.\n",
      "W0000 00:00:1746902470.282114 1138120 inference_feedback_manager.cc:114] Feedback manager requires a model with a single signature inference. Disabling support for feedback tensors.\n",
      "W0000 00:00:1746902470.292868 1138097 inference_feedback_manager.cc:114] Feedback manager requires a model with a single signature inference. Disabling support for feedback tensors.\n",
      "W0000 00:00:1746902470.325658 1138114 inference_feedback_manager.cc:114] Feedback manager requires a model with a single signature inference. Disabling support for feedback tensors.\n"
     ]
    },
    {
     "name": "stdout",
     "output_type": "stream",
     "text": [
      "Pose landmarks for folder 'digging' have been saved to ../output/digging_pose_landmarks.csv\n",
      "Pose landmarks for folder 'weeding' have been saved to ../output/weeding_pose_landmarks.csv\n"
     ]
    },
    {
     "name": "stderr",
     "output_type": "stream",
     "text": [
      "I0000 00:00:1746902528.492171  752948 gl_context_egl.cc:85] Successfully initialized EGL. Major : 1 Minor: 5\n",
      "I0000 00:00:1746902528.502281 1147368 gl_context.cc:369] GL version: 3.0 (OpenGL ES 3.0 Mesa 24.2.8-1ubuntu1~24.04.1), renderer: D3D12 (Intel(R) UHD Graphics 770)\n"
     ]
    },
    {
     "name": "stderr",
     "output_type": "stream",
     "text": [
      "W0000 00:00:1746902528.548384 1147344 inference_feedback_manager.cc:114] Feedback manager requires a model with a single signature inference. Disabling support for feedback tensors.\n",
      "W0000 00:00:1746902528.563423 1147352 inference_feedback_manager.cc:114] Feedback manager requires a model with a single signature inference. Disabling support for feedback tensors.\n"
     ]
    }
   ],
   "source": [
    "# Iterate through each folder in the dataset path\n",
    "for folder_name in os.listdir(dataset_path):\n",
    "    folder_path = os.path.join(dataset_path, folder_name)\n",
    "    if os.path.isdir(folder_path):\n",
    "        # Create output CSV path for the folder\n",
    "        output_csv = os.path.join(output_path, f\"{folder_name}_pose_landmarks.csv\")\n",
    "        \n",
    "        # Initialize MediaPipe Pose\n",
    "        mp_pose = mp.solutions.pose\n",
    "        pose = mp_pose.Pose(static_image_mode=True, min_detection_confidence=0.5)\n",
    "\n",
    "        # List to store data\n",
    "        data = []\n",
    "\n",
    "        # Process each video in the folder\n",
    "        for video_name in os.listdir(folder_path):\n",
    "            if video_name.endswith(\".mp4\") or video_name.endswith(\".mov\"):\n",
    "                video_path = os.path.join(folder_path, video_name)\n",
    "                cap = cv2.VideoCapture(video_path)\n",
    "\n",
    "                while cap.isOpened():\n",
    "                    ret, frame = cap.read()\n",
    "                    if not ret:\n",
    "                        break\n",
    "\n",
    "                    # Convert the frame to RGB\n",
    "                    frame_rgb = cv2.cvtColor(frame, cv2.COLOR_BGR2RGB)\n",
    "\n",
    "                    # Detect pose landmarks\n",
    "                    results = pose.process(frame_rgb)\n",
    "                    if results.pose_landmarks:\n",
    "                        # Extract landmarks\n",
    "                        landmarks = []\n",
    "                        for landmark in results.pose_landmarks.landmark:\n",
    "                            landmarks.extend([landmark.x, landmark.y, landmark.z, landmark.visibility])\n",
    "                        # Append to data list\n",
    "                        data.append([video_name] + landmarks + [folder_name])\n",
    "\n",
    "                cap.release()\n",
    "\n",
    "        # Create a DataFrame\n",
    "        columns = [\"video\"] + [f\"{landmark}_{axis}\" for landmark in range(33) for axis in [\"x\", \"y\", \"z\", \"visibility\"]] + [\"label\"]\n",
    "        df = pd.DataFrame(data, columns=columns)\n",
    "\n",
    "        # Save to CSV\n",
    "        df.to_csv(output_csv, index=False)\n",
    "\n",
    "        print(f\"Pose landmarks for folder '{folder_name}' have been saved to {output_csv}\")"
   ]
  }
 ],
 "metadata": {
  "kernelspec": {
   "display_name": ".venv",
   "language": "python",
   "name": "python3"
  },
  "language_info": {
   "codemirror_mode": {
    "name": "ipython",
    "version": 3
   },
   "file_extension": ".py",
   "mimetype": "text/x-python",
   "name": "python",
   "nbconvert_exporter": "python",
   "pygments_lexer": "ipython3",
   "version": "3.12.9"
  }
 },
 "nbformat": 4,
 "nbformat_minor": 5
}
