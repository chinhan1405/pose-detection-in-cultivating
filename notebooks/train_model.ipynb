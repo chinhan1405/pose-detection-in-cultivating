{
 "cells": [
  {
   "cell_type": "code",
   "execution_count": 12,
   "id": "3f2efdcb",
   "metadata": {},
   "outputs": [],
   "source": [
    "import os\n",
    "from sklearn.model_selection import train_test_split\n",
    "from sklearn.metrics import accuracy_score\n",
    "from sklearn.decomposition import PCA\n",
    "from sklearn.neural_network import MLPClassifier\n",
    "import joblib\n",
    "import pandas as pd"
   ]
  },
  {
   "cell_type": "code",
   "execution_count": 13,
   "id": "d871bbd0",
   "metadata": {},
   "outputs": [],
   "source": [
    "landmarks_path = \"../output\"\n",
    "model_path = \"../models\"\n",
    "if not os.path.exists(model_path):\n",
    "    os.makedirs(model_path)\n",
    "pca_model_path = \"../models/pca\"\n",
    "if not os.path.exists(pca_model_path):\n",
    "    os.makedirs(pca_model_path)"
   ]
  },
  {
   "cell_type": "code",
   "execution_count": 14,
   "id": "3c5d08fe",
   "metadata": {},
   "outputs": [],
   "source": [
    "exclude_categories = [\"planting\", \"harvesting\"]"
   ]
  },
  {
   "cell_type": "code",
   "execution_count": 15,
   "id": "ede01116",
   "metadata": {},
   "outputs": [
    {
     "data": {
      "text/plain": [
       "((81207, 133), (34805, 133))"
      ]
     },
     "execution_count": 15,
     "metadata": {},
     "output_type": "execute_result"
    }
   ],
   "source": [
    "# Load and preprocess data\n",
    "dataframes = []\n",
    "for file in os.listdir(landmarks_path):\n",
    "    if file.endswith(\"augmented.csv\") and not any(exclude in file for exclude in exclude_categories):\n",
    "        label = file.split(\"_\")[0]  # Extract label from filename\n",
    "        df = pd.read_csv(os.path.join(landmarks_path, file))\n",
    "        df['label'] = label  # Add label column\n",
    "        df = df.drop(df.columns[0], axis=1)\n",
    "        dataframes.append(df)\n",
    "\n",
    "# Combine all dataframes\n",
    "data = pd.concat(dataframes, ignore_index=True)\n",
    "\n",
    "# Split each class data separately to maintain balance\n",
    "train_dataframes = []\n",
    "test_dataframes = []\n",
    "for label, group in data.groupby('label'):\n",
    "    X_group = group.drop(columns=['label'])\n",
    "    y_group = group['label']\n",
    "    X_train_group, X_test_group, y_train_group, y_test_group = train_test_split(\n",
    "        X_group, y_group, test_size=0.3, stratify=y_group, random_state=1\n",
    "    )\n",
    "    train_dataframes.append(pd.concat([X_train_group, y_train_group], axis=1))\n",
    "    test_dataframes.append(pd.concat([X_test_group, y_test_group], axis=1))\n",
    "\n",
    "# Combine training and testing data\n",
    "train_data = pd.concat(train_dataframes, ignore_index=True)\n",
    "test_data = pd.concat(test_dataframes, ignore_index=True)\n",
    "train_data.shape, test_data.shape"
   ]
  },
  {
   "cell_type": "code",
   "execution_count": 16,
   "id": "d7ba1f66",
   "metadata": {},
   "outputs": [
    {
     "data": {
      "text/plain": [
       "((81207, 132), (81207,), (34805, 132), (34805,))"
      ]
     },
     "execution_count": 16,
     "metadata": {},
     "output_type": "execute_result"
    }
   ],
   "source": [
    "# Separate features and labels\n",
    "X_train = train_data.drop(columns=['label']).values\n",
    "y_train = train_data['label'].values\n",
    "X_test = test_data.drop(columns=['label']).values\n",
    "y_test = test_data['label'].values\n",
    "X_train.shape, y_train.shape, X_test.shape, y_test.shape"
   ]
  },
  {
   "cell_type": "code",
   "execution_count": 17,
   "id": "e2e46307",
   "metadata": {},
   "outputs": [
    {
     "name": "stdout",
     "output_type": "stream",
     "text": [
      "Original feature dim: 132\n",
      "Reduced feature dim: 19\n"
     ]
    }
   ],
   "source": [
    "# Fit PCA on training data and transform both train and test\n",
    "pca = PCA(n_components=0.97, svd_solver=\"full\")  # retain 99.9% variance\n",
    "X_train_pca = pca.fit_transform(X_train)\n",
    "X_test_pca = pca.transform(X_test)\n",
    "\n",
    "print(f\"Original feature dim: {X_train.shape[1]}\")\n",
    "print(f\"Reduced feature dim: {X_train_pca.shape[1]}\")"
   ]
  },
  {
   "cell_type": "code",
   "execution_count": 18,
   "id": "b6781dc5",
   "metadata": {},
   "outputs": [
    {
     "name": "stdout",
     "output_type": "stream",
     "text": [
      "MLPClassifier PCA Accuracy: 0.99\n"
     ]
    },
    {
     "data": {
      "text/plain": [
       "['../models/pca/pca.joblib']"
      ]
     },
     "execution_count": 18,
     "metadata": {},
     "output_type": "execute_result"
    }
   ],
   "source": [
    "# Train models with PCA features\n",
    "classifiers = {\n",
    "    \"MLPClassifier\": MLPClassifier(hidden_layer_sizes=(50, 50), max_iter=1000, random_state=1)\n",
    "}\n",
    "for name, clf in classifiers.items():\n",
    "    clf.fit(X_train_pca, y_train)\n",
    "    y_pred = clf.predict(X_test_pca)\n",
    "    accuracy = accuracy_score(y_test, y_pred)\n",
    "    print(f\"{name} PCA Accuracy: {accuracy:.2f}\")\n",
    "    joblib.dump(clf, f\"{pca_model_path}/{name}_pca.joblib\")\n",
    "\n",
    "joblib.dump(pca, os.path.join(pca_model_path, \"pca.joblib\"))"
   ]
  }
 ],
 "metadata": {
  "kernelspec": {
   "display_name": ".venv",
   "language": "python",
   "name": "python3"
  },
  "language_info": {
   "codemirror_mode": {
    "name": "ipython",
    "version": 3
   },
   "file_extension": ".py",
   "mimetype": "text/x-python",
   "name": "python",
   "nbconvert_exporter": "python",
   "pygments_lexer": "ipython3",
   "version": "3.12.9"
  }
 },
 "nbformat": 4,
 "nbformat_minor": 5
}
