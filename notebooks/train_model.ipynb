{
 "cells": [
  {
   "cell_type": "code",
   "execution_count": 34,
   "id": "3f2efdcb",
   "metadata": {},
   "outputs": [],
   "source": [
    "from sklearn.model_selection import train_test_split\n",
    "from sklearn.metrics import accuracy_score\n",
    "from sklearn.ensemble import RandomForestClassifier\n",
    "from sklearn.neighbors import KNeighborsClassifier\n",
    "from sklearn.svm import SVC\n",
    "import joblib\n",
    "import pandas as pd"
   ]
  },
  {
   "cell_type": "code",
   "execution_count": 27,
   "id": "d871bbd0",
   "metadata": {},
   "outputs": [],
   "source": [
    "landmarks_path = \"../output\""
   ]
  },
  {
   "cell_type": "code",
   "execution_count": 28,
   "id": "ede01116",
   "metadata": {},
   "outputs": [
    {
     "name": "stderr",
     "output_type": "stream",
     "text": [
      "/tmp/ipykernel_812584/1395493958.py:14: FutureWarning: The behavior of DataFrame concatenation with empty or all-NA entries is deprecated. In a future version, this will no longer exclude empty or all-NA columns when determining the result dtypes. To retain the old behavior, exclude the relevant entries before the concat operation.\n",
      "  data = pd.concat(dataframes, ignore_index=True)\n"
     ]
    },
    {
     "data": {
      "text/plain": [
       "((3224, 133), (359, 133))"
      ]
     },
     "execution_count": 28,
     "metadata": {},
     "output_type": "execute_result"
    }
   ],
   "source": [
    "import os\n",
    "\n",
    "# Load and preprocess data\n",
    "dataframes = []\n",
    "for file in os.listdir(landmarks_path):\n",
    "    if file.endswith(\".csv\"):\n",
    "        label = file.split(\"_\")[0]  # Extract label from filename\n",
    "        df = pd.read_csv(os.path.join(landmarks_path, file))\n",
    "        df['label'] = label  # Add label column\n",
    "        df = df.drop(df.columns[0], axis=1)\n",
    "        dataframes.append(df)\n",
    "\n",
    "# Combine all dataframes\n",
    "data = pd.concat(dataframes, ignore_index=True)\n",
    "\n",
    "# Split each class data separately to maintain balance\n",
    "train_dataframes = []\n",
    "test_dataframes = []\n",
    "for label, group in data.groupby('label'):\n",
    "    X_group = group.drop(columns=['label'])\n",
    "    y_group = group['label']\n",
    "    X_train_group, X_test_group, y_train_group, y_test_group = train_test_split(\n",
    "        X_group, y_group, test_size=0.1, random_state=42, stratify=y_group\n",
    "    )\n",
    "    train_dataframes.append(pd.concat([X_train_group, y_train_group], axis=1))\n",
    "    test_dataframes.append(pd.concat([X_test_group, y_test_group], axis=1))\n",
    "\n",
    "# Combine training and testing data\n",
    "train_data = pd.concat(train_dataframes, ignore_index=True)\n",
    "test_data = pd.concat(test_dataframes, ignore_index=True)\n",
    "train_data.shape, test_data.shape"
   ]
  },
  {
   "cell_type": "code",
   "execution_count": 29,
   "id": "d7ba1f66",
   "metadata": {},
   "outputs": [
    {
     "data": {
      "text/plain": [
       "((3224, 132), (3224,), (359, 132), (359,))"
      ]
     },
     "execution_count": 29,
     "metadata": {},
     "output_type": "execute_result"
    }
   ],
   "source": [
    "# Separate features and labels\n",
    "X_train = train_data.drop(columns=['label'])\n",
    "y_train = train_data['label']\n",
    "X_test = test_data.drop(columns=['label'])\n",
    "y_test = test_data['label']\n",
    "X_train.shape, y_train.shape, X_test.shape, y_test.shape"
   ]
  },
  {
   "cell_type": "code",
   "execution_count": 30,
   "id": "f00bfff9",
   "metadata": {},
   "outputs": [
    {
     "data": {
      "text/plain": [
       "(label\n",
       " watering    1737\n",
       " digging     1487\n",
       " Name: count, dtype: int64,\n",
       " label\n",
       " watering    193\n",
       " digging     166\n",
       " Name: count, dtype: int64)"
      ]
     },
     "execution_count": 30,
     "metadata": {},
     "output_type": "execute_result"
    }
   ],
   "source": [
    "y_train.value_counts(), y_test.value_counts()"
   ]
  },
  {
   "cell_type": "code",
   "execution_count": 31,
   "id": "3a64827d",
   "metadata": {},
   "outputs": [
    {
     "data": {
      "text/plain": [
       "0        digging\n",
       "1        digging\n",
       "2        digging\n",
       "3        digging\n",
       "4        digging\n",
       "          ...   \n",
       "3219    watering\n",
       "3220    watering\n",
       "3221    watering\n",
       "3222    watering\n",
       "3223    watering\n",
       "Name: label, Length: 3224, dtype: object"
      ]
     },
     "execution_count": 31,
     "metadata": {},
     "output_type": "execute_result"
    }
   ],
   "source": [
    "y_train"
   ]
  },
  {
   "cell_type": "code",
   "execution_count": null,
   "id": "4e5bedbc",
   "metadata": {},
   "outputs": [
    {
     "name": "stdout",
     "output_type": "stream",
     "text": [
      "RandomForest Accuracy: 1.00\n",
      "KNeighbors Accuracy: 1.00\n",
      "SVC Accuracy: 0.98\n"
     ]
    }
   ],
   "source": [
    "# Train models with different classifiers\n",
    "classifiers = {\n",
    "    'RandomForest': RandomForestClassifier(n_estimators=100, random_state=42),\n",
    "    'KNeighbors': KNeighborsClassifier(n_neighbors=5),\n",
    "    'SVC': SVC(kernel='linear', random_state=42)\n",
    "}\n",
    "for name, clf in classifiers.items():\n",
    "    clf.fit(X_train, y_train)\n",
    "    y_pred = clf.predict(X_test)\n",
    "    accuracy = accuracy_score(y_test, y_pred)\n",
    "    print(f\"{name} Accuracy: {accuracy:.2f}\")\n",
    "    joblib.dump(clf, f\"../models/{name}.joblib\")"
   ]
  }
 ],
 "metadata": {
  "kernelspec": {
   "display_name": ".venv",
   "language": "python",
   "name": "python3"
  },
  "language_info": {
   "codemirror_mode": {
    "name": "ipython",
    "version": 3
   },
   "file_extension": ".py",
   "mimetype": "text/x-python",
   "name": "python",
   "nbconvert_exporter": "python",
   "pygments_lexer": "ipython3",
   "version": "3.12.9"
  }
 },
 "nbformat": 4,
 "nbformat_minor": 5
}
